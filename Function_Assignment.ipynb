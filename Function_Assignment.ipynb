{
 "cells": [
  {
   "cell_type": "markdown",
   "id": "3ee5cda6-c587-4ca8-83ed-b45588b22ee7",
   "metadata": {},
   "source": [
    "### Assignment - Functions ###"
   ]
  },
  {
   "cell_type": "code",
   "execution_count": null,
   "id": "7433dc59-cf8b-4d86-9862-eb59adf2f800",
   "metadata": {},
   "outputs": [],
   "source": [
    "#Q1 : What is the difference between a function & method in python?\n",
    "\n",
    "# Answer :\n",
    "'''\n",
    "A function is a block of reusable code that performs a specific task. It is defined using the \"def\" keyword.\n",
    "A method is a function that is associated with an object. Methods are defined within a class and are meant to operate on the data contained in instances of that class.\n",
    "Functions can be defined outside of any class and can be called independently. They operate on the parameters passed to them and return a result.\n",
    "Methods are called on objects (instances of a class) and typically operate on the data (attributes) of those objects.\n",
    "In methods, the first parameter is usually self, which refers to the instance of the class on which the method is called.\n",
    "While, Functions do not have this implicit parameter.\n",
    "Functions are used for general-purpose tasks that don’t depend on any particular object.Methods are used to operate on or modify the state of an object and often interact with the data held in that object.\n",
    "Functions are called by name, followed by parentheses: function_name().\n",
    "Methods are called on an instance of a class, using dot notation: instance.method_name().\n",
    "\n",
    "e.g. of function & methods are as follows:\n",
    "'''"
   ]
  },
  {
   "cell_type": "code",
   "execution_count": 4,
   "id": "78302064-59a5-4a9a-8e0e-3c9594c30e05",
   "metadata": {},
   "outputs": [
    {
     "name": "stdout",
     "output_type": "stream",
     "text": [
      "8\n",
      "This is called using class 'Student'\n"
     ]
    }
   ],
   "source": [
    "# defining a function which gives sum of two numbers:\n",
    "\n",
    "def sum(a,b):      #sum is name of the function. a,b are parameters \n",
    "    return a+b     #the function is returning a+b\n",
    "\n",
    "print(sum(5,3))          #calling the function \"sum\" with two parameters 5 & 3\n",
    "\n",
    "\n",
    "#defining a method :\n",
    "class Student:        #creating a class\n",
    "    def main(self):   #defining method\n",
    "        print(\"This is called using class 'Student'\")\n",
    "\n",
    "s1=Student()      #creating a object of the class Student\n",
    "s1.main()         #calling main function\n"
   ]
  },
  {
   "cell_type": "code",
   "execution_count": null,
   "id": "a5bdecbf-899b-4f72-be05-a303ec70a01d",
   "metadata": {},
   "outputs": [],
   "source": [
    "\n",
    "\n",
    "\n"
   ]
  },
  {
   "cell_type": "code",
   "execution_count": null,
   "id": "7745c650-0b27-4965-8182-cf4018033373",
   "metadata": {},
   "outputs": [],
   "source": [
    "#Q2 Explain the concept of function arguments & parameters in python.\n",
    "\n",
    "'''\n",
    "Parameters\n",
    "Parameters are the variables listed in the function definition.\n",
    "They act as placeholders for the values that will be passed into the function. \n",
    "When you define a function, you specify its parameters to indicate what kind of data the function needs to perform its task.\n",
    " \n",
    "\n",
    "Arguments\n",
    "Arguments are the actual values or data you pass to a function when you call it.\n",
    "They correspond to the parameters defined in the function. \n",
    "When you call a function, you provide arguments that match the parameters in number and type.\n",
    "Further, there are multiple types of parameters such as positional arguments,keyword arguments, default arguments, var-arg arguments\n",
    "\n",
    "Examples of parameters & arguuments are as follows :  '''"
   ]
  },
  {
   "cell_type": "code",
   "execution_count": 5,
   "id": "c4fe7e52-8cdf-448d-8423-50a3e5f0dd1f",
   "metadata": {},
   "outputs": [
    {
     "name": "stdout",
     "output_type": "stream",
     "text": [
      "5\n",
      "8\n",
      "7\n",
      "43\n"
     ]
    }
   ],
   "source": [
    "# example of a function for addition of two numbers :\n",
    "\n",
    "def addition(a,b):  # a,b are parameters\n",
    "    return a+b\n",
    "\n",
    "print(addition(2,3))      #2,3 are positional arguments \n",
    "\n",
    "print(addition(b=6,a=2))    # keyword arguments\n",
    "\n",
    "\n",
    "def func(a,b=2):     # default argument is b=2.i.e. even if we don't provide value of b it'll automatically take the value as 2\n",
    "    return a+b\n",
    "\n",
    "print(func(5))  \n",
    "\n",
    "def func2(*args):    # using var-arg. (works on multiple inputs)\n",
    "    s=0\n",
    "    for i in args:\n",
    "        s=s+i\n",
    "    return s\n",
    "\n",
    "print(func2(7,8,9,4,5,6,3,1))\n",
    "\n"
   ]
  },
  {
   "cell_type": "code",
   "execution_count": null,
   "id": "ab289668-3c97-43d5-b716-26fc35e3ebc7",
   "metadata": {},
   "outputs": [],
   "source": [
    "#Q3 What are the different ways to define & call a function in python.\n",
    "\n",
    "'''\n",
    "In Python, functions can be defined and called in various ways, offering flexibility in how you structure and use your code. Here’s a comprehensive overview of the different methods for defining and calling functions:\n",
    "\n",
    "Defining Functions :\n",
    "\n",
    "1)Basic Function Definition\n",
    "\n",
    "This is the standard way to define a function with a fixed number of parameters.\n",
    "def greet(name):\n",
    "    print(f\"Hello, {name}!\")\n",
    "\n",
    "2) Default Parameters\n",
    "\n",
    "You can provide default values for parameters. If a value is not provided during the function call, the default value is used.\n",
    "\n",
    "def greet(name, greeting=\"Hello\"):\n",
    "    print(f\"{greeting}, {name}!\")\n",
    "    \n",
    "3) Variable-Length Arguments\n",
    "\n",
    "Use *args to accept a variable number of positional arguments and **kwargs to accept a variable number of keyword arguments.\n",
    "def print_args(*args):\n",
    "    for arg in args:\n",
    "        print(arg)\n",
    "\n",
    "def print_kwargs(**kwargs):\n",
    "    for key, value in kwargs.items():\n",
    "        print(f\"{key} = {value}\")\n",
    "        \n",
    "4) Lambda Functions\n",
    "\n",
    "Lambda functions are small, anonymous functions defined using the lambda keyword. They are useful for short operations where a full function definition is not necessary.\n",
    "square = lambda x: x * x\n",
    "\n",
    "***Calling Functions\n",
    "a)Positional Arguments:\n",
    "\n",
    "Call the function with arguments matching the order of parameters.\n",
    "greet(\"Alice\")\n",
    "\n",
    "b)Keyword Arguments\n",
    "\n",
    "Specify arguments by name, allowing you to pass them in any order.\n",
    "greet(name=\"Bob\", greeting=\"Hi\")\n",
    "\n",
    "c)Default Parameters\n",
    "\n",
    "If you omit the argument for a parameter with a default value, the default value is used.\n",
    "greet(\"Charlie\")\n",
    "\n",
    "d)Variable-Length Arguments\n",
    "\n",
    "You can pass a list or tuple to *args and a dictionary to **kwargs.\n",
    "print_args(1, 2, 3, \"a\", \"b\")\n",
    "print_kwargs(a=1, b=2)\n",
    "\n",
    "e)Lambda Functions\n",
    "\n",
    "Call lambda functions just like regular functions.\n",
    "result = square(4)\n",
    "\n",
    "all the examples are compiled & run in the below box:\n",
    "'''\n"
   ]
  },
  {
   "cell_type": "code",
   "execution_count": 23,
   "id": "65e2df5c-444f-4d7e-bf0d-be6ce69209fc",
   "metadata": {},
   "outputs": [
    {
     "name": "stdout",
     "output_type": "stream",
     "text": [
      "Hello, Ganesh!\n",
      "Hello, Ganesh!\n",
      "Hi, Bob!\n",
      "1 2 3 4 5 \n",
      " 16\n"
     ]
    }
   ],
   "source": [
    "def greet(name):             #positional argument\n",
    "    print(f\"Hello, {name}!\")\n",
    "\n",
    "greet(\"Ganesh\")\n",
    "\n",
    "\n",
    "def greet1(name, greeting=\"Hello\"):     #default argument\n",
    "    print(f\"{greeting}, {name}!\")\n",
    "    \n",
    "greet1(\"Ganesh\")\n",
    "\n",
    "greet1(name=\"Bob\", greeting=\"Hi\")       #keyword argument\n",
    "\n",
    "def print_args(*args):          #var-arg argument\n",
    "    for arg in args: \n",
    "        print(arg,end=\" \")\n",
    "\n",
    "print_args(1,2,3,4,5)\n",
    "\n",
    "square = lambda x: x * x\n",
    "result = square(4) \n",
    "print(\"\\n\", result)"
   ]
  },
  {
   "cell_type": "code",
   "execution_count": null,
   "id": "60629533-4f5c-41d7-9524-0984c33adfe8",
   "metadata": {},
   "outputs": [],
   "source": [
    "\n",
    "\n",
    "\n"
   ]
  },
  {
   "cell_type": "code",
   "execution_count": null,
   "id": "5df7618f-33ce-4faa-88b1-4742707a881a",
   "metadata": {},
   "outputs": [],
   "source": [
    "#Q4 What is the purpose return statement in python function?\n",
    "\n",
    "'''\n",
    "In Python, the return statement is used in functions to exit the function and optionally pass back a value to the caller. Here’s a detailed look at its purpose and usage:\n",
    "\n",
    "Purpose of the return Statement\n",
    "Exiting the Function:\n",
    "\n",
    "The return statement immediately terminates the execution of the function and returns control to the caller.\n",
    "Any code after the return statement within the function will not be executed.\n",
    "Returning a Value:\n",
    "\n",
    "You can use return to send a result back to the function caller.\n",
    "This result can be of any data type: numbers, strings, lists, dictionaries, objects, etc.\n",
    "If no value is provided after return, the function returns None by default.\n",
    "\n",
    "Example of return is as follows:\n",
    "\n",
    "'''"
   ]
  },
  {
   "cell_type": "code",
   "execution_count": 24,
   "id": "95bf9618-8860-4df1-ae9b-d585a4a243c8",
   "metadata": {},
   "outputs": [
    {
     "name": "stdout",
     "output_type": "stream",
     "text": [
      "8\n"
     ]
    }
   ],
   "source": [
    "def add(x, y):\n",
    "    return x + y\n",
    "\n",
    "result = add(5, 3)\n",
    "print(result)  "
   ]
  },
  {
   "cell_type": "code",
   "execution_count": null,
   "id": "74b7d583-940e-486c-a632-077ac222d997",
   "metadata": {},
   "outputs": [],
   "source": [
    "\n",
    "\n",
    "\n"
   ]
  },
  {
   "cell_type": "code",
   "execution_count": null,
   "id": "e2bbcd86-a407-4eb9-819a-fedc0a125afe",
   "metadata": {},
   "outputs": [],
   "source": [
    "#Q5 What are the iterators is python & how do they differ from iterables?\n",
    "\n",
    "\n",
    "'''\n",
    "Differences Between Iterables and Iterators\n",
    "Definition:\n",
    "\n",
    "Iterable: An object that can be iterated over (e.g., lists, tuples). It has an __iter__() method that returns an iterator.\n",
    "Iterator: An object that performs the iteration. It has both __iter__() and __next__() methods.\n",
    "Use Case:\n",
    "\n",
    "Iterable: You use iterables when you need a container of data that you can loop over, but you don’t necessarily need to manage the iteration process.\n",
    "Iterator: You use iterators when you need to manually control the iteration process, often in custom iteration scenarios or when dealing with large datasets\n",
    "where you want to avoid loading everything into memory at once.\n",
    "\n",
    "State:\n",
    "\n",
    "Iterable: Does not maintain iteration state. It simply provides an iterator.\n",
    "Iterator: Maintains state (current position in the sequence) and updates it as you retrieve the next item.\n",
    "Creation:\n",
    "\n",
    "Iterable: Created by defining collections or using built-in data structures.\n",
    "Iterator: Created by calling iter() on an iterable, or by implementing the iterator protocol in a custom class.\n",
    "\n",
    "Example of iterator is as follows: '''"
   ]
  },
  {
   "cell_type": "code",
   "execution_count": 26,
   "id": "179e2978-c5ba-4c92-b123-1de7919e6445",
   "metadata": {},
   "outputs": [
    {
     "name": "stdout",
     "output_type": "stream",
     "text": [
      "1\n",
      "2\n",
      "3\n"
     ]
    }
   ],
   "source": [
    "numbers = [1, 2, 3]\n",
    "iterator = iter(numbers)\n",
    "\n",
    "print(next(iterator))  # Output: 1\n",
    "print(next(iterator))  # Output: 2\n",
    "print(next(iterator))  # Output: 3"
   ]
  },
  {
   "cell_type": "code",
   "execution_count": null,
   "id": "844f531f-3918-402f-b6d3-4b5562b4851f",
   "metadata": {},
   "outputs": [],
   "source": [
    "\n",
    "\n",
    "\n",
    "\n"
   ]
  },
  {
   "cell_type": "code",
   "execution_count": null,
   "id": "22a6f30e-c40c-4e89-906f-7c48c65bb352",
   "metadata": {},
   "outputs": [],
   "source": [
    "#Q6 Explain the concept of generators in python and how they are defined.\n",
    "\n",
    "'''\n",
    "Generators are typically defined using functions with the yield statement. When a function contains yield, it is automatically treated as a generator. Here’s a step-by-step explanation:\n",
    "\n",
    "Using yield:\n",
    "\n",
    "The yield statement is used instead of return to produce a value and pause the function's execution, saving its state. When next() is called on the generator, execution resumes from the last yield statement.\n",
    "Generator Functions:\n",
    "\n",
    "Functions with yield are called generator functions. They return a generator iterator.\n",
    "Generator Expressions:\n",
    "\n",
    "You can also create generators using generator expressions, which are similar to list comprehensions but use parentheses instead of square brackets. \n",
    "Example of generator is as follows:\n",
    "\n",
    "'''\n"
   ]
  },
  {
   "cell_type": "code",
   "execution_count": 31,
   "id": "7b6149de-d2f4-46b5-ab78-c06cc4bd1612",
   "metadata": {
    "collapsed": true,
    "jupyter": {
     "outputs_hidden": true
    },
    "tags": []
   },
   "outputs": [
    {
     "name": "stdout",
     "output_type": "stream",
     "text": [
      "0\n",
      "1\n",
      "1\n",
      "2\n",
      "3\n",
      "5\n",
      "8\n",
      "13\n",
      "21\n"
     ]
    }
   ],
   "source": [
    "def fibonacci():\n",
    "    a, b = 0, 1\n",
    "    while True:\n",
    "        yield a\n",
    "        a, b = b, a + b\n",
    "\n",
    "fib = fibonacci()\n",
    "print(next(fib))\n",
    "print(next(fib))\n",
    "print(next(fib))\n",
    "print(next(fib))\n",
    "print(next(fib))\n",
    "print(next(fib))\n",
    "print(next(fib))\n",
    "print(next(fib))\n",
    "print(next(fib))"
   ]
  },
  {
   "cell_type": "code",
   "execution_count": null,
   "id": "60887211-e9af-4fc5-8702-77c2fa1c51bd",
   "metadata": {},
   "outputs": [],
   "source": [
    "\n",
    "\n",
    "\n",
    "\n",
    "\n"
   ]
  },
  {
   "cell_type": "code",
   "execution_count": null,
   "id": "1cfdae3e-2b3e-4e9a-afd6-5a12db1bda61",
   "metadata": {},
   "outputs": [],
   "source": [
    "#Q7 What are the advantages of using generators over regular functions?\n",
    "\n",
    "'''\n",
    "Generators provide significant advantages over regular functions and data structures:\n",
    "\n",
    "Memory Efficiency: They use less memory by generating items on demand.\n",
    "Performance: They can improve performance by avoiding unnecessary computations and storage.\n",
    "Infinite Sequences: They can handle potentially infinite sequences without running out of memory.\n",
    "Readability: They simplify the code for handling sequences and state.\n",
    "State Management: They retain their state between yields, making them suitable for tasks that require maintaining context.\n",
    "In many cases, using generators can lead to more efficient and manageable code, particularly for handling large or dynamic data sets.\n",
    "\n",
    "\n",
    "squares = [x * x for x in range(1000000)] -  Using a list comprehension (less efficient for large ranges)\n",
    "\n",
    "\n",
    "squares = (x * x for x in range(1000000)) -  Using a generator (more efficient)\n",
    "\n",
    "Example of generator is as follows :\n",
    "\n",
    "'''\n"
   ]
  },
  {
   "cell_type": "code",
   "execution_count": 32,
   "id": "dbd6e9c5-15ab-4a1a-b872-1f346da9e3fa",
   "metadata": {},
   "outputs": [
    {
     "name": "stdout",
     "output_type": "stream",
     "text": [
      "5\n",
      "4\n",
      "3\n",
      "2\n",
      "1\n"
     ]
    }
   ],
   "source": [
    "def countdown(n):\n",
    "    while n > 0:\n",
    "        yield n\n",
    "        n -= 1\n",
    "\n",
    "counter = countdown(5)\n",
    "for count in counter:\n",
    "    print(count)"
   ]
  },
  {
   "cell_type": "code",
   "execution_count": null,
   "id": "ec98e0e6-c4c2-4ea9-9b24-9bc704f48104",
   "metadata": {},
   "outputs": [],
   "source": [
    "\n",
    "\n",
    "\n"
   ]
  },
  {
   "cell_type": "code",
   "execution_count": null,
   "id": "833bab5d-240b-41c5-b778-6c8bb97031f5",
   "metadata": {},
   "outputs": [],
   "source": [
    "#Q8 What is a lambda function in python & when it is used?\n",
    "\n",
    "'''\n",
    "A lambda function in Python is a small, anonymous function defined using the lambda keyword. \n",
    "It is often used for short, throwaway functions where defining a full function using the def keyword would be overkill. \n",
    "Lambda functions can have any number of input parameters but only a single expression. \n",
    "The syntax is: lambda arguments: expression\n",
    "\n",
    "When to Use Lambda Functions:\n",
    "\n",
    "Short-lived Functions: When you need a simple function for a short period, such as for a single use case, lambda functions are often preferred.\n",
    "\n",
    "Functional Programming Constructs: Lambda functions are commonly used with functions like map(), filter(), and reduce(), which take function arguments\n",
    "\n",
    "Sorting: When you need a custom sort order for sorting lists or other collections, lambda functions can be used with the key parameter of sort() or sorted()\n",
    "\n",
    "Event Handlers and Callbacks: In GUI programming or other event-driven applications, lambda functions can be used to define simple callback functions.\n",
    "\n",
    "Inline Usage: When the function is used only once or in a small scope, a lambda function can make the code more concise and readable.\n",
    "\n",
    "Examples of all are as follows : '''\n"
   ]
  },
  {
   "cell_type": "code",
   "execution_count": 2,
   "id": "14bb6530-0542-4bcc-9b2b-1ede26a61bc0",
   "metadata": {},
   "outputs": [
    {
     "name": "stdout",
     "output_type": "stream",
     "text": [
      "5\n",
      "5\n",
      "[1, 4, 9, 16]\n",
      "[2, 4]\n"
     ]
    }
   ],
   "source": [
    "#Difference between regular function & lambda function\n",
    "# Regular function\n",
    "def add(x, y):\n",
    "    return x + y\n",
    "\n",
    "# Lambda function\n",
    "add_lambda = lambda x, y: x + y\n",
    "\n",
    "print(add(2, 3))         # Output: 5\n",
    "print(add_lambda(2, 3))  # Output: 5\n",
    "\n",
    "# Using lambda with map()\n",
    "numbers = [1, 2, 3, 4]\n",
    "squared = list(map(lambda x: x ** 2, numbers))\n",
    "print(squared)  # Output: [1, 4, 9, 16]\n",
    "\n",
    "# Using lambda with filter()\n",
    "evens = list(filter(lambda x: x % 2 == 0, numbers))\n",
    "print(evens)  # Output: [2, 4]"
   ]
  },
  {
   "cell_type": "code",
   "execution_count": 114,
   "id": "7d395339-ac03-4f3d-8e2c-c29ebd332595",
   "metadata": {},
   "outputs": [
    {
     "name": "stdout",
     "output_type": "stream",
     "text": [
      "[1, 4, 9, 16, 25]\n"
     ]
    }
   ],
   "source": [
    "#Q9 Explain the purpose of map() function in python.\n",
    "\n",
    "'''\n",
    "The map() function in Python is a built-in function that allows you to apply a given function to each item in an iterable (such as a list or tuple) and returns an iterator that produces the results. It’s a powerful tool for transforming data in a concise and readable way.\n",
    "\n",
    "Purpose of map()\n",
    "Transformation of Data:\n",
    "\n",
    "map() is primarily used to apply a function to each item in an iterable. It’s often used for transforming data from one form to another.\n",
    "Functional Programming:\n",
    "\n",
    "It supports functional programming paradigms by allowing functions to be applied to sequences without using explicit loops.\n",
    "Efficiency:\n",
    "\n",
    "The map() function can be more efficient than using a loop because it applies the function directly to each item in the iterable, and it produces results in a lazy manner (i.e., it doesn't compute all results at once but rather generates them on-the-fly).\n",
    "\n",
    "Syntax : map(function, iterable, ...)\n",
    "function: A function that will be applied to each item in the iterable. It can be a built-in function, a user-defined function, or a lambda function.\n",
    "iterable: An iterable (e.g., a list, tuple) whose items will be processed by the function.\n",
    "Additional Iterables: You can pass more than one iterable. The function must take as many arguments as there are iterables.\n",
    "\n",
    "example:\n",
    "'''\n",
    "numbers = [1, 2, 3, 4, 5]\n",
    "\n",
    "# Define a function to square a number\n",
    "def square(x):\n",
    "    return x ** 2\n",
    "\n",
    "# Use map to apply the function to each element\n",
    "squared_numbers = map(square, numbers)\n",
    "\n",
    "# Convert the result to a list and print it\n",
    "print(list(squared_numbers))\n"
   ]
  },
  {
   "cell_type": "code",
   "execution_count": null,
   "id": "837edcb8-2f05-4b81-b314-8aff929acb56",
   "metadata": {},
   "outputs": [],
   "source": [
    "#Q10.  What is the difference between map(), reduce() & filter function in python?\n",
    "\n",
    "'''\n",
    "1. map()\n",
    "Purpose: Applies a given function to each item in an iterable (e.g., list, tuple) and returns a new iterable (map object) with the results.\n",
    "Syntax :map(function, iterable, ...)\n",
    "function: A function to apply to each item of the iterable.\n",
    "iterable: An iterable whose items are passed to the function.\n",
    "\n",
    "2. filter()\n",
    "Purpose: Filters items from an iterable based on a function that returns True or False. Only items for which the function returns True are included in the resulting iterable (filter object).\n",
    "Syntax: filter(function, iterable)\n",
    "function: A function that returns True or False. If None, it simply removes falsy values (e.g., None, 0, '').\n",
    "iterable: An iterable to be filtered.\n",
    "\n",
    "3. reduce()\n",
    "Purpose: Applies a function cumulatively to the items of an iterable, from left to right, so as to reduce the iterable to a single value. Note that reduce() is not a built-in function in Python 3 but can be imported from the functools module.\n",
    "Syntax : \n",
    "from functools import reduce\n",
    "reduce(function, iterable, [initializer])\n",
    "function: A function that takes two arguments and returns a single value. This function is applied cumulatively to the items.\n",
    "iterable: An iterable whose items are reduced.\n",
    "initializer (optional): A value that is used as the initial value in the reduction. If not provided, the first item of the iterable is used.\n",
    "\n",
    "Examples of all examples are as follows:'''"
   ]
  },
  {
   "cell_type": "code",
   "execution_count": 3,
   "id": "fb2bc277-cdbb-412f-808a-11097afc8a79",
   "metadata": {},
   "outputs": [
    {
     "name": "stdout",
     "output_type": "stream",
     "text": [
      "[1, 4, 9, 16, 25]\n",
      "[2, 4]\n",
      "120\n"
     ]
    }
   ],
   "source": [
    "numbers = [1, 2, 3, 4, 5]               #map() example\n",
    "squared = map(lambda x: x ** 2, numbers)\n",
    "print(list(squared))\n",
    "\n",
    "\n",
    "numbers = [1, 2, 3, 4, 5]             #filter() example\n",
    "evens = filter(lambda x: x % 2 == 0, numbers)\n",
    "print(list(evens))  \n",
    "\n",
    "from functools import reduce          #reduce() example\n",
    "\n",
    "numbers = [1, 2, 3, 4, 5]\n",
    "product = reduce(lambda x, y: x * y, numbers)\n",
    "print(product)"
   ]
  },
  {
   "cell_type": "code",
   "execution_count": null,
   "id": "fd9ffa02-f7ab-4611-a6c1-388718053f56",
   "metadata": {},
   "outputs": [],
   "source": [
    "\n",
    "\n",
    "\n"
   ]
  },
  {
   "cell_type": "code",
   "execution_count": 116,
   "id": "c48b0628-3cdb-4650-aa58-7a7b4ecdbec3",
   "metadata": {},
   "outputs": [
    {
     "name": "stdout",
     "output_type": "stream",
     "text": [
      "113\n"
     ]
    }
   ],
   "source": [
    "#Q11 Using pen & paper write a internal mechanism  for sum operation using reduce function for the given list [47,11,42,13]\n",
    "\n",
    "from functools import reduce\n",
    "\n",
    "numbers = [47, 11, 42, 13]\n",
    "result = reduce(lambda x, y: x + y, numbers)\n",
    "print(result)  # Output: 113\n",
    "\n",
    "# Mechanism of of above code is explained in the attached word file.\n"
   ]
  },
  {
   "cell_type": "code",
   "execution_count": null,
   "id": "9846e6ee-9e9b-424b-ac21-4917eb3a4009",
   "metadata": {},
   "outputs": [],
   "source": []
  },
  {
   "cell_type": "code",
   "execution_count": null,
   "id": "9e9d5f33-8383-491a-bf1b-9d8e93be66e2",
   "metadata": {},
   "outputs": [],
   "source": []
  },
  {
   "cell_type": "markdown",
   "id": "7a3f5e9a-cb6c-4950-ad77-50b9cb5237c3",
   "metadata": {},
   "source": [
    "### Practical Questions ###"
   ]
  },
  {
   "cell_type": "code",
   "execution_count": null,
   "id": "10cc0d64-e568-4593-8869-eb23be445ca2",
   "metadata": {},
   "outputs": [],
   "source": []
  },
  {
   "cell_type": "code",
   "execution_count": 17,
   "id": "18f0e139-b761-409d-bf96-d5f1b47bdbe9",
   "metadata": {},
   "outputs": [],
   "source": [
    "#Q1 Write a python function that takes list as input & returns the sum of all even numbers in list\n"
   ]
  },
  {
   "cell_type": "code",
   "execution_count": 39,
   "id": "ff670d4c-94df-42fa-874e-9bf8d67d91cb",
   "metadata": {},
   "outputs": [
    {
     "name": "stdout",
     "output_type": "stream",
     "text": [
      "Sum of even numbers present in the list is   20\n"
     ]
    }
   ],
   "source": [
    " \n",
    "def func(a): \n",
    "    sum=0\n",
    "    \n",
    "    for i in a:\n",
    "        if i%2==0:\n",
    "            sum=i+sum\n",
    "    print(f\"Sum of even numbers present in the list is   {sum}\")\n",
    "    \n",
    "\n",
    "func([1,2,3,4,5,6,7,8,9])"
   ]
  },
  {
   "cell_type": "code",
   "execution_count": null,
   "id": "582ffaf6-8d9d-4654-a023-efdd64279581",
   "metadata": {},
   "outputs": [],
   "source": []
  },
  {
   "cell_type": "code",
   "execution_count": 57,
   "id": "9368bf35-fdc2-4674-a771-9c79f12aff79",
   "metadata": {},
   "outputs": [
    {
     "name": "stdout",
     "output_type": "stream",
     "text": [
      " Reverse of the string is SLLIKSWP\n"
     ]
    }
   ],
   "source": [
    "#Q2 Create a python function that accepts a string & returns the reverse of a string.\n",
    "\n",
    "def rev_string(a):\n",
    "    s=\"\"\n",
    "    for i in a:\n",
    "        s=i+s\n",
    "    print(f\" Reverse of the string is {s}\")\n",
    "\n",
    "rev_string(\"PWSKILLS\")"
   ]
  },
  {
   "cell_type": "code",
   "execution_count": null,
   "id": "36b8c277-4a71-4cd1-a842-f8f3e20c6fa1",
   "metadata": {},
   "outputs": [],
   "source": []
  },
  {
   "cell_type": "code",
   "execution_count": 44,
   "id": "57234d35-873a-4f39-8f8a-aacbe8d112d3",
   "metadata": {},
   "outputs": [
    {
     "data": {
      "text/plain": [
       "[1, 4, 9, 16, 64, 36, 4]"
      ]
     },
     "execution_count": 44,
     "metadata": {},
     "output_type": "execute_result"
    }
   ],
   "source": [
    "#Q3 Implement a python function that takes a list of integers & return a new list containing square of each number.\n",
    "\n",
    "def sq_func(a):\n",
    "    return list(map(lambda x:x**2 ,a))\n",
    "\n",
    "sq_func([1,2,3,4,8,6,2])"
   ]
  },
  {
   "cell_type": "code",
   "execution_count": null,
   "id": "fe91d33c-6e2c-468f-b811-2dea69c085be",
   "metadata": {},
   "outputs": [],
   "source": []
  },
  {
   "cell_type": "code",
   "execution_count": 93,
   "id": "b4dc8a8e-f462-4073-9b28-287b8f057dfb",
   "metadata": {},
   "outputs": [
    {
     "name": "stdout",
     "output_type": "stream",
     "text": [
      "2 is a prime number\n"
     ]
    }
   ],
   "source": [
    "#Q4 Write a function that checks if a given number is prime or not from 1 to 200.\n",
    "\n",
    "def func_prime(num):\n",
    "    if 0<num<=200:\n",
    "        if (num> 1):\n",
    "\n",
    "        # Iterate from 2 to n // 2\n",
    "            for i in range(2, (num//2)+1):\n",
    "\n",
    "            # If num is divisible by any number between\n",
    "            # 2 and n / 2, it is not prime\n",
    "                if (num % i) == 0:\n",
    "                    print(num, \"is not a prime number\")\n",
    "                    break\n",
    "            else:\n",
    "                print(num, \"is a prime number\")\n",
    "        else:\n",
    "            print(num, \"is not a prime number\")\n",
    "    else:\n",
    "        print(\"Number not in range 1 to 200\")\n",
    "func_prime(2)"
   ]
  },
  {
   "cell_type": "code",
   "execution_count": null,
   "id": "88659d8c-92d2-4c0a-a70d-62debe8f94dd",
   "metadata": {},
   "outputs": [],
   "source": []
  },
  {
   "cell_type": "code",
   "execution_count": 114,
   "id": "59ad9728-aaf6-4233-932e-581bd1eeaaae",
   "metadata": {},
   "outputs": [
    {
     "name": "stdout",
     "output_type": "stream",
     "text": [
      "0\n",
      "1\n",
      "1\n",
      "2\n",
      "3\n",
      "5\n",
      "8\n",
      "13\n"
     ]
    }
   ],
   "source": [
    "#Q5 Create a iterator class in python that generates the Fibonnaci sequence upto a specified number of terms.\n",
    "\n",
    "def fib(n):\n",
    "    a=0\n",
    "    b=1\n",
    "    for i in range(0,n+1):\n",
    "        yield a\n",
    "        a,b=b,a+b\n",
    "\n",
    "it=fib(10)\n",
    "print(next(it))\n",
    "print(next(it))\n",
    "print(next(it))\n",
    "print(next(it))\n",
    "print(next(it))\n",
    "print(next(it))\n",
    "print(next(it))\n",
    "print(next(it))"
   ]
  },
  {
   "cell_type": "code",
   "execution_count": null,
   "id": "23303edd-81f6-43b6-b4e3-7d42cf59ac3f",
   "metadata": {},
   "outputs": [],
   "source": []
  },
  {
   "cell_type": "code",
   "execution_count": 11,
   "id": "54f431e9-071f-4d77-8593-bc5887127702",
   "metadata": {},
   "outputs": [
    {
     "name": "stdout",
     "output_type": "stream",
     "text": [
      "2\n",
      "4\n",
      "8\n",
      "16\n",
      "32\n"
     ]
    }
   ],
   "source": [
    "#Q6 Write a generator function in python that yield the power of 2 upto given exponent.\n",
    "\n",
    "def func_power2(a):\n",
    "    for i in range(1,a+1):\n",
    "        yield 2**i\n",
    "\n",
    "b=func_power2(5)\n",
    "\n",
    "print(next(b))\n",
    "print(next(b))\n",
    "print(next(b))\n",
    "print(next(b))\n",
    "print(next(b))\n"
   ]
  },
  {
   "cell_type": "code",
   "execution_count": null,
   "id": "ab53a049-eeb6-4197-909a-70afb8eaaba4",
   "metadata": {},
   "outputs": [],
   "source": []
  },
  {
   "cell_type": "code",
   "execution_count": 112,
   "id": "1ba03aba-fb63-413d-b561-0ea103826ffd",
   "metadata": {},
   "outputs": [
    {
     "name": "stdout",
     "output_type": "stream",
     "text": [
      "Hello\n",
      "Good Morning!\n",
      "Welcome!\n",
      "\n",
      "\n",
      "Bye"
     ]
    }
   ],
   "source": [
    "#Q7 Implement a generator function that reads a file line by line & yields each line as a string.\n",
    "\n",
    "\n",
    "'''\n",
    "    A generator function that reads a file line by line.\n",
    "\n",
    "    :param file_path: The path to the file to be read.\n",
    "    :yield: Each line from the file as a string.\n",
    "'''\n",
    "import os\n",
    "\n",
    "def read_file_line_by_line(file_path):\n",
    "    try:\n",
    "        with open(file_path, 'r') as file:\n",
    "            for line in file:\n",
    "                yield line\n",
    "    except FileNotFoundError:\n",
    "        print(f\"Error: The file {file_path} does not exist.\")\n",
    "    except IOError as e:\n",
    "        print(f\"Error: An I/O error occurred: {e}\")\n",
    "\n",
    "# Example usage\n",
    "if __name__ == \"__main__\":\n",
    "    file_path = 'Test1.txt'  # Adjust the path as needed\n",
    "\n",
    "    for line in read_file_line_by_line(file_path):\n",
    "        print(line, end='')  # `end=''` prevents adding an extra newline"
   ]
  },
  {
   "cell_type": "code",
   "execution_count": null,
   "id": "ea0067f4-2020-4fac-a740-e1cab945462d",
   "metadata": {},
   "outputs": [],
   "source": []
  },
  {
   "cell_type": "code",
   "execution_count": 38,
   "id": "f1d7b130-6a00-4ca9-9654-3d3badb68458",
   "metadata": {},
   "outputs": [
    {
     "name": "stdout",
     "output_type": "stream",
     "text": [
      "[(2, 1, 5), (3, 2), (1, 3)]\n"
     ]
    }
   ],
   "source": [
    "#Q8 Use a lambda function in python to sort a list of tuples based on the second element of each tuple.\n",
    "\n",
    "tuples_list = [(1, 3), (2, 1,5), (3, 2)]\n",
    "\n",
    "# Sort the list of tuples based on the second element of each tuple\n",
    "sorted_list = sorted(tuples_list, key=lambda x: x[1])\n",
    "\n",
    "# Print the sorted list\n",
    "print(sorted_list)"
   ]
  },
  {
   "cell_type": "code",
   "execution_count": null,
   "id": "2275bd60-00fc-4f1e-a5a1-4d9f23ad80ca",
   "metadata": {},
   "outputs": [],
   "source": []
  },
  {
   "cell_type": "code",
   "execution_count": 43,
   "id": "2cbf500c-2829-48d3-ac95-a238ce4f4bdb",
   "metadata": {},
   "outputs": [
    {
     "name": "stdout",
     "output_type": "stream",
     "text": [
      "Temperatures in Celsius: [0, 20, 37, 100, -40]\n",
      "Temperatures in Fahrenheit: [32.0, 68.0, 98.6, 212.0, -40.0]\n"
     ]
    }
   ],
   "source": [
    "#Q9 Write a python program that uses 'map()' to convert a list of temperatures from celcius to fahrenhiet.\n",
    "\n",
    "def celsius_to_fahrenheit(celsius):\n",
    "    return (celsius * 9/5) + 32\n",
    "\n",
    "\n",
    "celsius_temperatures = [0, 20, 37, 100, -40]\n",
    "fahrenheit_temperatures = map(celsius_to_fahrenheit, celsius_temperatures)\n",
    "fahrenheit_temperatures_list = list(fahrenheit_temperatures)\n",
    "\n",
    "\n",
    "print(f\"Temperatures in Celsius: {celsius_temperatures}\")\n",
    "print(f\"Temperatures in Fahrenheit: {fahrenheit_temperatures_list}\")"
   ]
  },
  {
   "cell_type": "code",
   "execution_count": null,
   "id": "38c8107a-7127-4116-bc9b-9f7e076a7001",
   "metadata": {},
   "outputs": [],
   "source": []
  },
  {
   "cell_type": "code",
   "execution_count": 47,
   "id": "b404a050-b675-4eb8-9dd9-4ce370c34f08",
   "metadata": {},
   "outputs": [
    {
     "name": "stdout",
     "output_type": "stream",
     "text": [
      "Ths s n xmpl strng wth vwls.\n"
     ]
    }
   ],
   "source": [
    "#Q10 Create a python program that uses 'filter()' to remove all the vowels from a given string.\n",
    "\n",
    "def is_not_vowel(char):\n",
    "    vowels = 'aeiouAEIOU'\n",
    "    return char not in vowels\n",
    "\n",
    "\n",
    "input_string = \"This is an example string with vowels.\"\n",
    "\n",
    "\n",
    "filtered_chars = filter(is_not_vowel, input_string)\n",
    "\n",
    "result_string = ''.join(filtered_chars)\n",
    "\n",
    "print(result_string)"
   ]
  },
  {
   "cell_type": "code",
   "execution_count": null,
   "id": "4de69f92-6f10-412f-92d1-a9c6104e91de",
   "metadata": {},
   "outputs": [],
   "source": []
  },
  {
   "cell_type": "code",
   "execution_count": 56,
   "id": "4d115ce3-21b1-439b-9343-6b097153d717",
   "metadata": {},
   "outputs": [
    {
     "name": "stdout",
     "output_type": "stream",
     "text": [
      "[(2, 30, 30), (2, 40, 30)]\n"
     ]
    }
   ],
   "source": [
    "#Q11 Write a python program which returns a list with two tuples. Each tuple consist of order number and the product \n",
    "#   of the price per item and the quantity.The product should be increased by 10 ,-E if the value of the order is smaller than\n",
    "#   1000,-E\n",
    "#   Write a python program using lambda and map\n",
    "\n",
    "orders = [(2, 30, 30)]  \n",
    "\n",
    "def calculate_total(order):\n",
    "    order_number, price_per_item, quantity = order\n",
    "    total_price = price_per_item * quantity\n",
    "    # Increase the total price by 10 if it's less than 1000\n",
    "    if total_price < 1000:\n",
    "        price_per_item += 10\n",
    "    return (order_number, price_per_item, quantity)\n",
    "\n",
    "# Use map() with a lambda function to apply calculate_total to each order\n",
    "adjusted_orders = map(lambda order: calculate_total(order), orders)\n",
    "\n",
    "# Convert the result from map() to a list\n",
    "result_list = list(adjusted_orders)\n",
    "\n",
    "# Print the result\n",
    "print(orders + result_list)"
   ]
  },
  {
   "cell_type": "code",
   "execution_count": null,
   "id": "ddfebd55-673e-4b9a-a688-b4275b356f4c",
   "metadata": {},
   "outputs": [],
   "source": []
  },
  {
   "cell_type": "code",
   "execution_count": 113,
   "id": "1a30fa80-a72e-4986-ba99-2874801039ad",
   "metadata": {},
   "outputs": [
    {
     "name": "stdout",
     "output_type": "stream",
     "text": [
      "\n"
     ]
    }
   ],
   "source": []
  },
  {
   "cell_type": "code",
   "execution_count": null,
   "id": "2a272c7e-200b-4e24-9e5d-9f305933f6b3",
   "metadata": {},
   "outputs": [],
   "source": []
  },
  {
   "cell_type": "code",
   "execution_count": null,
   "id": "8a3d7ee9-1288-40b9-ae5d-798d29401028",
   "metadata": {},
   "outputs": [],
   "source": []
  }
 ],
 "metadata": {
  "kernelspec": {
   "display_name": "Python 3 (ipykernel)",
   "language": "python",
   "name": "python3"
  },
  "language_info": {
   "codemirror_mode": {
    "name": "ipython",
    "version": 3
   },
   "file_extension": ".py",
   "mimetype": "text/x-python",
   "name": "python",
   "nbconvert_exporter": "python",
   "pygments_lexer": "ipython3",
   "version": "3.10.8"
  },
  "toc-autonumbering": false,
  "toc-showmarkdowntxt": false
 },
 "nbformat": 4,
 "nbformat_minor": 5
}
